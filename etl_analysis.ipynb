{
 "cells": [
  {
   "cell_type": "code",
   "execution_count": 1,
   "metadata": {},
   "outputs": [],
   "source": [
    "# Dependencies and set up\n",
    "import pandas as pd\n",
    "from sqlalchemy import create_engine"
   ]
  },
  {
   "cell_type": "markdown",
   "metadata": {},
   "source": [
    "### Create a DataFrame for Kiva loans and clean it"
   ]
  },
  {
   "cell_type": "code",
   "execution_count": 2,
   "metadata": {},
   "outputs": [],
   "source": [
    "# Store CSV into DataFrame\n",
    "kiva_loans_csv = \"Resources/kiva_loans.csv\"\n",
    "kiva_loans_df = pd.read_csv(kiva_loans_csv)"
   ]
  },
  {
   "cell_type": "code",
   "execution_count": 3,
   "metadata": {},
   "outputs": [],
   "source": [
    "# Delete duplicates\n",
    "kiva_loans_df.drop_duplicates(keep=\"first\",inplace=True)"
   ]
  },
  {
   "cell_type": "code",
   "execution_count": 4,
   "metadata": {},
   "outputs": [],
   "source": [
    "# Rename \"id\" column to \"loan_id\" for clarity \n",
    "kiva_loans_df.rename(index=str, columns = {\"id\":\"loan_id\",\"sector\":\"loan_sector\"},inplace=True)"
   ]
  },
  {
   "cell_type": "code",
   "execution_count": 5,
   "metadata": {},
   "outputs": [],
   "source": [
    "# Convert dates from string to datetime format\n",
    "kiva_loans_df[\"posted_time\"]=pd.to_datetime(kiva_loans_df[\"posted_time\"])\n",
    "kiva_loans_df[\"disbursed_time\"]=pd.to_datetime(kiva_loans_df[\"disbursed_time\"])\n",
    "kiva_loans_df[\"funded_time\"]=pd.to_datetime(kiva_loans_df[\"funded_time\"])\n",
    "kiva_loans_df[\"date\"]=pd.to_datetime(kiva_loans_df[\"date\"])"
   ]
  },
  {
   "cell_type": "code",
   "execution_count": 6,
   "metadata": {},
   "outputs": [],
   "source": [
    "# Create separate columns for the number of female, male, and total borrowers\n",
    "kiva_loans_df[\"num_fem_borrowers\"] = kiva_loans_df[\"borrower_genders\"].str.count(\"female\")\n",
    "kiva_loans_df[\"num_m_borrowers\"] = (kiva_loans_df[\"borrower_genders\"].str.count(\"male\")) - (kiva_loans_df[\"num_fem_borrowers\"])\n",
    "kiva_loans_df[\"total_borrowers\"] = kiva_loans_df[\"num_fem_borrowers\"] + kiva_loans_df[\"num_m_borrowers\"]"
   ]
  },
  {
   "cell_type": "markdown",
   "metadata": {},
   "source": [
    "### Create regions DataFrame, clean it, and find a way to link it to the Kiva loans DataFrame"
   ]
  },
  {
   "cell_type": "code",
   "execution_count": 7,
   "metadata": {},
   "outputs": [],
   "source": [
    "# Store CSV into DataFrame\n",
    "regions_csv = \"Resources/kiva_mpi_region_locations.csv\"\n",
    "regions_df = pd.read_csv(regions_csv)"
   ]
  },
  {
   "cell_type": "code",
   "execution_count": 8,
   "metadata": {},
   "outputs": [],
   "source": [
    "# Delete duplicates\n",
    "regions_df.drop_duplicates(keep=\"first\",inplace=True)"
   ]
  },
  {
   "cell_type": "code",
   "execution_count": 9,
   "metadata": {},
   "outputs": [],
   "source": [
    "# Create a location ID\n",
    "regions_df.sort_values([\"country\",\"region\"], ascending = True, inplace = True)\n",
    "regions_df=regions_df.assign(location_id=(regions_df[\"country\"]+\"_\"+regions_df[\"region\"]).astype(\"category\").cat.codes)"
   ]
  },
  {
   "cell_type": "code",
   "execution_count": 10,
   "metadata": {},
   "outputs": [],
   "source": [
    "# Merge the loans and regions DataFrames to make sure we have a way to link them together\n",
    "loans_regions_df = pd.merge(kiva_loans_df,regions_df,how=\"left\",left_on=[\"country\",\"region\"],right_on=[\"country\",\"region\"])"
   ]
  },
  {
   "cell_type": "code",
   "execution_count": 11,
   "metadata": {},
   "outputs": [],
   "source": [
    "# Create a \"cleaned\" DataFrame for Kiva loans with only the columns we need\n",
    "cleaned_kiva_loans_df = loans_regions_df[[\"loan_id\",\"funded_amount\",\"loan_amount\",\"activity\",\"loan_sector\",\"use\",\"currency\",\"partner_id\",\"posted_time\",\"disbursed_time\",\"funded_time\",\"term_in_months\",\"lender_count\", \"repayment_interval\",\"date\",\"num_fem_borrowers\",\"num_m_borrowers\",\"total_borrowers\",\"location_id\"]].copy()\n",
    "cleaned_kiva_loans_df.drop_duplicates(keep=\"first\",inplace=True)"
   ]
  },
  {
   "cell_type": "code",
   "execution_count": 12,
   "metadata": {},
   "outputs": [],
   "source": [
    "# Rename columns with capital letters, spaces, or are otherwise unclear\n",
    "regions_df.rename(index=str, columns = {\"ISO\":\"iso\",\"LocationName\":\"location_name\",\"MPI\":\"mpi\",\"sector\":\"loan_sector\"},inplace=True)"
   ]
  },
  {
   "cell_type": "code",
   "execution_count": 13,
   "metadata": {},
   "outputs": [],
   "source": [
    "# Create \"cleaned_regions_df\" with only the relevant columns from the \"regions_df\" and drop duplicates\n",
    "cleaned_regions_df = regions_df[[\"location_id\",\"iso\",\"country\",\"region\",\"world_region\",\"mpi\",\"lat\",\"lon\"]].copy()\n",
    "cleaned_regions_df.drop_duplicates([\"location_id\"],keep=\"first\",inplace=True)"
   ]
  },
  {
   "cell_type": "markdown",
   "metadata": {},
   "source": [
    "### Create loan theme DataFrame, clean it, and find a way to link it to the Kiva loans DataFrame"
   ]
  },
  {
   "cell_type": "code",
   "execution_count": 14,
   "metadata": {},
   "outputs": [],
   "source": [
    "# Store CSV into DataFrame\n",
    "theme_csv = \"Resources/loan_theme_ids.csv\"\n",
    "theme_df = pd.read_csv(theme_csv)"
   ]
  },
  {
   "cell_type": "code",
   "execution_count": 15,
   "metadata": {},
   "outputs": [],
   "source": [
    "# Merge the loans and themes DataFrames to make sure we have a way to link them together\n",
    "loans_themes_df = pd.merge(cleaned_kiva_loans_df,theme_df,how=\"left\",left_on=\"loan_id\",right_on=\"id\")"
   ]
  },
  {
   "cell_type": "code",
   "execution_count": 16,
   "metadata": {},
   "outputs": [],
   "source": [
    "# Redefine the cleaned Kiva loans DataFrame to include a theme ID to link two dataframes together \n",
    "cleaned_kiva_loans_df = loans_themes_df[[\"loan_id\",\"funded_amount\",\"loan_amount\",\"activity\",\"loan_sector\",\"use\",\"currency\",\"partner_id\",\"posted_time\",\"disbursed_time\",\"funded_time\",\"term_in_months\",\"lender_count\", \"repayment_interval\",\"date\",\"num_fem_borrowers\",\"num_m_borrowers\",\"total_borrowers\",\"location_id\",\"Loan Theme ID\"]].copy()\n",
    "\n",
    "# Rename \"Loan theme ID\" column to \"theme_id_old\" and change \"use\" column to something that's not already in SQL's vocabulary\n",
    "cleaned_kiva_loans_df.rename(index=str, columns = {\"Loan Theme ID\":\"theme_id_old\",\"use\":\"purpose\"},inplace=True)"
   ]
  },
  {
   "cell_type": "code",
   "execution_count": 17,
   "metadata": {},
   "outputs": [],
   "source": [
    "# Rename columns not to have spaces in their titles\n",
    "theme_df.rename(index=str, columns = {\"id\":\"loan_id\",\"Loan Theme ID\":\"theme_id_old\",\"Loan Theme Type\":\"theme_type\",\"Partner ID\":\"partner_id\"},inplace=True)"
   ]
  },
  {
   "cell_type": "code",
   "execution_count": 18,
   "metadata": {},
   "outputs": [],
   "source": [
    "# Define \"cleaned_theme_df\" as only the relevant columns and remove duplicates\n",
    "cleaned_theme_df = theme_df[[\"theme_id_old\",\"theme_type\"]].copy()\n",
    "cleaned_theme_df.sort_values(\"theme_id_old\",inplace=True,ascending=True)\n",
    "cleaned_theme_df.drop_duplicates([\"theme_id_old\"],keep=\"first\",inplace=True)"
   ]
  },
  {
   "cell_type": "code",
   "execution_count": 19,
   "metadata": {},
   "outputs": [],
   "source": [
    "# The old theme_id relies on case sensitivity. Recreating the theme_id\n",
    "cleaned_theme_df = cleaned_theme_df.assign(theme_id=(cleaned_theme_df[\"theme_id_old\"]).astype(\"category\").cat.codes)"
   ]
  },
  {
   "cell_type": "code",
   "execution_count": 20,
   "metadata": {},
   "outputs": [],
   "source": [
    "# Re-merge so to re-define the theme_id and ensure it will link\n",
    "loans_themes_df = pd.merge(cleaned_kiva_loans_df,cleaned_theme_df,how=\"left\",left_on=\"theme_id_old\",right_on=\"theme_id_old\")"
   ]
  },
  {
   "cell_type": "code",
   "execution_count": 21,
   "metadata": {},
   "outputs": [],
   "source": [
    "# Redefine the cleaned Kiva loans DataFrame to include a theme ID to link two dataframes together \n",
    "cleaned_kiva_loans_df = loans_themes_df[[\"loan_id\",\"funded_amount\",\"loan_amount\",\"activity\",\"loan_sector\",\"purpose\",\"currency\",\"partner_id\",\"posted_time\",\"disbursed_time\",\"funded_time\",\"term_in_months\",\"lender_count\", \"repayment_interval\",\"date\",\"num_fem_borrowers\",\"num_m_borrowers\",\"total_borrowers\",\"location_id\",\"theme_id\"]].copy()"
   ]
  },
  {
   "cell_type": "code",
   "execution_count": 22,
   "metadata": {},
   "outputs": [],
   "source": [
    "# Redefine cleaned theme DataFrame with the re-established theme_id\n",
    "cleaned_theme_df = cleaned_theme_df[[\"theme_id\",\"theme_type\"]].copy()"
   ]
  },
  {
   "cell_type": "markdown",
   "metadata": {},
   "source": [
    "### Create field partner DataFrame, clean it, and find a way to link it to the Kiva loans DataFrame"
   ]
  },
  {
   "cell_type": "code",
   "execution_count": 23,
   "metadata": {},
   "outputs": [],
   "source": [
    "# Store CSV into DataFrame\n",
    "field_partner_csv = \"Resources/loan_themes_by_region.csv\"\n",
    "field_partner_df = pd.read_csv(field_partner_csv)"
   ]
  },
  {
   "cell_type": "code",
   "execution_count": 24,
   "metadata": {},
   "outputs": [],
   "source": [
    "# Rename the columns that have spaces or capital letters\n",
    "field_partner_df.rename(index=str, columns = {\"Partner ID\":\"partner_id\",\"Field Partner Name\":\"field_partner_name\",\"Loan Theme ID\":\"theme_id\",\"Loan Theme Type\":\"theme_type\",\"ISO\":\"iso\",\"LocationName\":\"location_name\",\"sector\":\"partner_sector\"},inplace=True)\n",
    "field_partner_df = field_partner_df[[\"partner_id\",\"field_partner_name\",\"partner_sector\"]].copy()\n",
    "field_partner_df.drop_duplicates(keep=\"first\",inplace=True)"
   ]
  },
  {
   "cell_type": "code",
   "execution_count": 25,
   "metadata": {},
   "outputs": [],
   "source": [
    "# Merge loans and partner dataframes to make sure there aren't partners not attached to loans\n",
    "loan_partner_df = pd.merge(cleaned_kiva_loans_df,field_partner_df,how=\"left\",left_on=\"partner_id\",right_on=\"partner_id\")"
   ]
  },
  {
   "cell_type": "code",
   "execution_count": 26,
   "metadata": {},
   "outputs": [],
   "source": [
    "# Create cleaned dataframe with only the relevant columns and drop all duplicates\n",
    "cleaned_field_partner_df = loan_partner_df[[\"partner_id\",\"field_partner_name\",\"partner_sector\"]].copy()\n",
    "cleaned_field_partner_df.drop_duplicates(subset=[\"partner_id\"],keep=\"first\",inplace=True)\n",
    "cleaned_field_partner_df.dropna(subset=[\"partner_id\"],how=\"any\",inplace=True)"
   ]
  },
  {
   "cell_type": "markdown",
   "metadata": {},
   "source": [
    "### Input data into SQL"
   ]
  },
  {
   "cell_type": "code",
   "execution_count": 27,
   "metadata": {},
   "outputs": [],
   "source": [
    "# Establish the MySQL database connection and create the engine\n",
    "rds_connection_string = \"root:Farmerdave415-@127.0.0.1/kiva_db\"\n",
    "engine = create_engine(f\"mysql+pymysql://{rds_connection_string}?charset=utf8\", encoding = \"utf8\")"
   ]
  },
  {
   "cell_type": "code",
   "execution_count": 28,
   "metadata": {},
   "outputs": [
    {
     "data": {
      "text/plain": [
       "['airbnb_hosts',\n",
       " 'field_partners',\n",
       " 'kiva_loans',\n",
       " 'listings',\n",
       " 'loan_regions',\n",
       " 'loan_themes',\n",
       " 'property_availability',\n",
       " 'property_reviews']"
      ]
     },
     "execution_count": 28,
     "metadata": {},
     "output_type": "execute_result"
    }
   ],
   "source": [
    "# Check that tables are created in MySQL database\n",
    "engine.table_names()"
   ]
  },
  {
   "cell_type": "code",
   "execution_count": 29,
   "metadata": {},
   "outputs": [],
   "source": [
    "# Add the field partner DataFrame to MySQL    \n",
    "cleaned_field_partner_df.to_sql(name=\"field_partners\",con=engine,if_exists=\"append\",index=False,chunksize=2000)"
   ]
  },
  {
   "cell_type": "code",
   "execution_count": 30,
   "metadata": {},
   "outputs": [],
   "source": [
    "# Add the theme DataFrame to MySQL\n",
    "cleaned_theme_df.to_sql(name=\"loan_themes\",con=engine,if_exists=\"append\",index=False)"
   ]
  },
  {
   "cell_type": "code",
   "execution_count": 31,
   "metadata": {},
   "outputs": [],
   "source": [
    "# Add the regions DataFrame to MySQL\n",
    "cleaned_regions_df.to_sql(name=\"loan_regions\",con=engine,if_exists=\"append\",index=False,chunksize=2000)"
   ]
  },
  {
   "cell_type": "code",
   "execution_count": 32,
   "metadata": {},
   "outputs": [],
   "source": [
    "# Add the Kiva loans DataFrame to MySQL\n",
    "cleaned_kiva_loans_df.to_sql(name=\"kiva_loans\",con=engine,if_exists=\"append\",index=False,chunksize=2000)"
   ]
  }
 ],
 "metadata": {
  "kernelspec": {
   "display_name": "Python 3",
   "language": "python",
   "name": "python3"
  },
  "language_info": {
   "codemirror_mode": {
    "name": "ipython",
    "version": 3
   },
   "file_extension": ".py",
   "mimetype": "text/x-python",
   "name": "python",
   "nbconvert_exporter": "python",
   "pygments_lexer": "ipython3",
   "version": "3.7.0"
  }
 },
 "nbformat": 4,
 "nbformat_minor": 2
}
